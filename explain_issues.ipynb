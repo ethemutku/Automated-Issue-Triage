{
 "cells": [
  {
   "cell_type": "code",
   "execution_count": 1,
   "metadata": {},
   "outputs": [],
   "source": [
    "###########################################################################\n",
    "# Analysis script to create explanation for a specific input issue record.#\n",
    "#       (Section 5 Explaining Team Assignments)                           #\n",
    "##########################################################################\n",
    "import pandas\n",
    "import numpy\n",
    "import re\n",
    "from stop_words import get_stop_words\n",
    "from sklearn.feature_extraction.text import TfidfVectorizer\n",
    "from sklearn.svm import LinearSVC\n",
    "from sklearn.calibration import CalibratedClassifierCV\n",
    "from lime import lime_text\n",
    "from sklearn.pipeline import make_pipeline\n",
    "from lime.lime_text import LimeTextExplainer"
   ]
  },
  {
   "cell_type": "code",
   "execution_count": 2,
   "metadata": {},
   "outputs": [],
   "source": [
    "# column names in the input data file, change them according to your file specifications \n",
    "# note that in our case the year and month of creation of the issue report is available as seperate columns\n",
    "CNAME_TEAMCODE = \"UYGULAMAKODU\"\n",
    "CNAME_SUBJECT = \"OZETBASLIK\"\n",
    "CNAME_DESCRIPTION = \"ACIKLAMA\"\n",
    "CNAME_RECORD_TYPE = \"KAYITTIPI\"\n",
    "CNAME_STATUS = \"COZUM\"\n",
    "CNAME_YEAR_OPENED = \"OLUSTURULDUYIL\" # year of creation of issue reports\n",
    "CNAME_MONTH_OPENED = \"OLUSTURULDUAY\" # month of creation of issue reports\n",
    "# filtering specifications \n",
    "FILTER_ISSUE_TYPE = 'Olay'\n",
    "FILTER_ISSUE_STATUS = 'Tamamlandı'"
   ]
  },
  {
   "cell_type": "code",
   "execution_count": 3,
   "metadata": {},
   "outputs": [],
   "source": [
    "def selectRecordsOpenedAtYearMonth(dataset, year, month):\n",
    "    \"\"\"\n",
    "    returns the issue records belonging to the input year and month\n",
    "    \"\"\"\n",
    "    d1 = dataset.groupby(CNAME_YEAR_OPENED).filter(lambda x: x.name == year)\n",
    "\n",
    "    return d1.groupby(CNAME_MONTH_OPENED).filter(lambda x: x.name == month)"
   ]
  },
  {
   "cell_type": "code",
   "execution_count": 4,
   "metadata": {},
   "outputs": [],
   "source": [
    "CNAME_SUBJECT_DESCRIPTION = \"OZETBASLIK_ACIKLAMA\" # concatenation of subject and description\n",
    "\n",
    "def load(filePath):\n",
    "    '''\n",
    "    load the dataset, ISO-8859-9 encoding is used for characters specific to Turkish language.\n",
    "    '''\n",
    "    dataset = pandas.read_csv(filePath, encoding=\"ISO-8859-9\", delimiter=\";\") \n",
    "\n",
    "    # remove the spaces from the start and end of column names\n",
    "    dataset.rename(columns=lambda x: x.strip(), inplace=True)\n",
    "\n",
    "    # concatenate subject and description in one column\n",
    "    dataset[CNAME_SUBJECT_DESCRIPTION] = dataset[CNAME_SUBJECT].astype(str) + ' ' + dataset[CNAME_DESCRIPTION].astype(str)\n",
    "\n",
    "    return dataset"
   ]
  },
  {
   "cell_type": "code",
   "execution_count": 5,
   "metadata": {},
   "outputs": [],
   "source": [
    "def selectTrainingDatasetRecords(dataset, train_year, train_month_list):\n",
    "    \"\"\"\n",
    "    filter issue records from the training dataset such that \n",
    "     * unresolved are eliminated and \n",
    "     * they are opened at specific time intervals\n",
    "\n",
    "    \"\"\"\n",
    "    dataset = dataset[(dataset[CNAME_RECORD_TYPE] == FILTER_ISSUE_TYPE) &\n",
    "                      (dataset[CNAME_STATUS] == FILTER_ISSUE_STATUS)]\n",
    "\n",
    "    # # select year and month\n",
    "    frames = []\n",
    "    for train_month in train_month_list:\n",
    "        frames.append(selectRecordsOpenedAtYearMonth(dataset, train_year, train_month))\n",
    "\n",
    "    dataset = pandas.concat(frames)\n",
    "\n",
    "    return dataset"
   ]
  },
  {
   "cell_type": "code",
   "execution_count": 6,
   "metadata": {},
   "outputs": [],
   "source": [
    "def selectTestDatasetRecords(dataset, test_year, test_month):\n",
    "    \"\"\"\n",
    "    filter issue records from the test dataset such that \n",
    "     * unresolved are eliminated and \n",
    "     * they are opened at specific time intervals\n",
    "\n",
    "    \"\"\"\n",
    "    # select year and month\n",
    "    frames = [selectRecordsOpenedAtYearMonth(dataset, test_year, test_month)]\n",
    "    dataset = pandas.concat(frames)\n",
    "    return dataset[(dataset[CNAME_RECORD_TYPE] == FILTER_ISSUE_TYPE) & \n",
    "                   (dataset[CNAME_STATUS] == FILTER_ISSUE_STATUS)]"
   ]
  },
  {
   "cell_type": "code",
   "execution_count": 7,
   "metadata": {},
   "outputs": [],
   "source": [
    "def selectRecordsHavingAtLeastNValuesInColumn(dataset, columnName, min_number_of_distinct_values):\n",
    "    \"\"\"\n",
    "    returns records that have the same value at columnName at least N times \n",
    "    \"\"\"\n",
    "\n",
    "    return dataset.groupby(columnName).filter(lambda x: len(x) >= min_number_of_distinct_values)"
   ]
  },
  {
   "cell_type": "code",
   "execution_count": 8,
   "metadata": {},
   "outputs": [],
   "source": [
    "# list of the stop words to be eliminated from the issue dataset \n",
    "stop_word_list = get_stop_words('turkish')\n",
    "#print(stop_word_list)\n",
    "\n",
    "# Turkish upper-case characters are lower-cased seperately so as to be sure of them\n",
    "lower_map_turkish = {\n",
    "    ord(u'I'): u'ı',\n",
    "    ord(u'İ'): u'i',\n",
    "    ord(u'Ç'): u'ç',\n",
    "    ord(u'Ş'): u'ş',\n",
    "    ord(u'Ö'): u'ö',\n",
    "    ord(u'Ü'): u'ü',\n",
    "    ord(u'Ğ'): u'ğ'\n",
    "}\n",
    "\n",
    "def filterNoise(text):\n",
    "    \"\"\"\n",
    "    converts words to lowercase, eliminates non-alphanumeric characters, eliminates stop-words\n",
    "    \"\"\"\n",
    "    # Remove all non-alphanumeric characters from the text via the regex[\\W]+,\n",
    "    # Convert the text into lowercase characters\n",
    "    text_tr = text.translate(lower_map_turkish)\n",
    "    lowerText = re.sub('[\\W]+', ' ', text_tr.lower())\n",
    "\n",
    "    #remove stopwords\n",
    "    noStopWordsText = [word for word in lowerText.split() if word not in stop_word_list]\n",
    "\n",
    "    return ' '.join(noStopWordsText)"
   ]
  },
  {
   "cell_type": "code",
   "execution_count": 9,
   "metadata": {},
   "outputs": [
    {
     "name": "stdout",
     "output_type": "stream",
     "text": [
      "Please enter the name of the csv dataset to read:issues.csv\n"
     ]
    }
   ],
   "source": [
    "inputFileName = input(\"Please enter the name of the csv dataset to read:\")"
   ]
  },
  {
   "cell_type": "code",
   "execution_count": 10,
   "metadata": {},
   "outputs": [
    {
     "name": "stdout",
     "output_type": "stream",
     "text": [
      "Entire dataset length: 122750\n"
     ]
    }
   ],
   "source": [
    "# load the dataset\n",
    "entireDataset = load(inputFileName)\n",
    "print(\"Entire dataset length: \" + str(len(entireDataset)))"
   ]
  },
  {
   "cell_type": "code",
   "execution_count": 11,
   "metadata": {},
   "outputs": [
    {
     "name": "stdout",
     "output_type": "stream",
     "text": [
      "Please enter the issue report year to be included in train dataset: 2017\n",
      "Please enter the issue report month to be included in train dataset (EXIT to stop): HAZİRAN\n",
      "Please enter the issue report month to be included in train dataset (EXIT to stop): TEMMUZ\n",
      "Please enter the issue report month to be included in train dataset (EXIT to stop): AĞUSTOS\n",
      "Please enter the issue report month to be included in train dataset (EXIT to stop): EYLÜL\n",
      "Please enter the issue report month to be included in train dataset (EXIT to stop): EKİM\n",
      "Please enter the issue report month to be included in train dataset (EXIT to stop): KASIM\n",
      "Please enter the issue report month to be included in train dataset (EXIT to stop): EXIT\n"
     ]
    }
   ],
   "source": [
    "train_year = int(input(\"Please enter the issue report year to be included in train dataset: \"))\n",
    "train_month_list = []\n",
    "train_month = \"\"\n",
    "while (train_month != \"EXIT\"):\n",
    "    train_month = str(input(\"Please enter the issue report month to be included in train dataset (EXIT to stop): \"))\n",
    "    if (train_month != \"EXIT\"):\n",
    "        train_month_list.append(train_month)"
   ]
  },
  {
   "cell_type": "code",
   "execution_count": 12,
   "metadata": {},
   "outputs": [
    {
     "name": "stdout",
     "output_type": "stream",
     "text": [
      "Please enter the minimum number of times a team should occur in the train dataset: 10\n"
     ]
    }
   ],
   "source": [
    "# the issue assigned to a team should occur at least min_number_of_discinct_values times for training\n",
    "min_number_of_distinct_values = int(input(\"Please enter the minimum number of times a team should occur in the train dataset: \"))"
   ]
  },
  {
   "cell_type": "code",
   "execution_count": 13,
   "metadata": {},
   "outputs": [],
   "source": [
    "# filter training issue records\n",
    "trainDataset = selectTrainingDatasetRecords(entireDataset, train_year, train_month_list)\n",
    "trainDataset = selectRecordsHavingAtLeastNValuesInColumn(trainDataset, CNAME_TEAMCODE, min_number_of_distinct_values)"
   ]
  },
  {
   "cell_type": "code",
   "execution_count": 14,
   "metadata": {},
   "outputs": [],
   "source": [
    "# text preprocessing\n",
    "trainDataset[CNAME_SUBJECT_DESCRIPTION] = trainDataset[CNAME_SUBJECT_DESCRIPTION].apply(filterNoise)"
   ]
  },
  {
   "cell_type": "code",
   "execution_count": 15,
   "metadata": {},
   "outputs": [
    {
     "name": "stdout",
     "output_type": "stream",
     "text": [
      "Train dataset length : 36088\n"
     ]
    }
   ],
   "source": [
    "# print to check training records\n",
    "print(\"Train dataset length : \" + str(len(trainDataset)))\n",
    "#print(trainDataset[CNAME_SUBJECT_DESCRIPTION].head(3))"
   ]
  },
  {
   "cell_type": "code",
   "execution_count": 16,
   "metadata": {},
   "outputs": [
    {
     "name": "stdout",
     "output_type": "stream",
     "text": [
      "Please enter the issue report year to be included in test dataset: 2017\n",
      "Please enter the issue report month to be included in test dataset: ARALIK\n"
     ]
    }
   ],
   "source": [
    "test_year = int(input(\"Please enter the issue report year to be included in test dataset: \"))\n",
    "test_month = str(input(\"Please enter the issue report month to be included in test dataset: \"))"
   ]
  },
  {
   "cell_type": "code",
   "execution_count": 17,
   "metadata": {},
   "outputs": [],
   "source": [
    "# filter test issue records\n",
    "testDataset = selectTestDatasetRecords(entireDataset, test_year, test_month)"
   ]
  },
  {
   "cell_type": "code",
   "execution_count": 18,
   "metadata": {},
   "outputs": [],
   "source": [
    "#text preprocessing\n",
    "testDataset[CNAME_SUBJECT_DESCRIPTION] = testDataset[CNAME_SUBJECT_DESCRIPTION].apply(filterNoise)"
   ]
  },
  {
   "cell_type": "code",
   "execution_count": 19,
   "metadata": {},
   "outputs": [
    {
     "name": "stdout",
     "output_type": "stream",
     "text": [
      "Test length: 7243\n"
     ]
    }
   ],
   "source": [
    "# print to check test records\n",
    "print(\"Test length: \" + str(len(testDataset)))\n",
    "#print(testDataset[CNAME_SUBJECT_DESCRIPTION].head(3))"
   ]
  },
  {
   "cell_type": "code",
   "execution_count": 20,
   "metadata": {},
   "outputs": [],
   "source": [
    "# specify the input textual data to train (X_train) and related classes (Y_train)\n",
    "X_train = trainDataset[CNAME_SUBJECT_DESCRIPTION].values\n",
    "Y_train = trainDataset[CNAME_TEAMCODE].values"
   ]
  },
  {
   "cell_type": "code",
   "execution_count": 21,
   "metadata": {},
   "outputs": [],
   "source": [
    "# Tf-idf conversion for training dataset\n",
    "vectorizer = TfidfVectorizer(ngram_range=(1, 2))\n",
    "X_tfidf_train = vectorizer.fit_transform(X_train)\n",
    "voc = vectorizer.vocabulary_"
   ]
  },
  {
   "cell_type": "code",
   "execution_count": 22,
   "metadata": {},
   "outputs": [],
   "source": [
    "# specify the input textual data to test (X_test) and related classes (Y_test)\n",
    "X_test = testDataset[CNAME_SUBJECT_DESCRIPTION].values\n",
    "Y_test = testDataset[CNAME_TEAMCODE].values"
   ]
  },
  {
   "cell_type": "code",
   "execution_count": 23,
   "metadata": {},
   "outputs": [],
   "source": [
    "# Td-idf conversion for test dataset\n",
    "vectorizer = TfidfVectorizer(ngram_range=(1, 2), vocabulary=voc)\n",
    "X_tfidf_test = vectorizer.fit_transform(X_test)"
   ]
  },
  {
   "cell_type": "code",
   "execution_count": 24,
   "metadata": {},
   "outputs": [],
   "source": [
    "# Specify the algorithms\n",
    "LinSvc = LinearSVC()\n",
    "CLinSvc = CalibratedClassifierCV(LinSvc)"
   ]
  },
  {
   "cell_type": "code",
   "execution_count": 25,
   "metadata": {},
   "outputs": [
    {
     "name": "stderr",
     "output_type": "stream",
     "text": [
      "C:\\Users\\ua48078\\AppData\\Local\\Continuum\\anaconda3\\lib\\site-packages\\sklearn\\model_selection\\_split.py:1978: FutureWarning: The default value of cv will change from 3 to 5 in version 0.22. Specify it explicitly to silence this warning.\n",
      "  warnings.warn(CV_WARNING, FutureWarning)\n"
     ]
    },
    {
     "data": {
      "text/plain": [
       "CalibratedClassifierCV(base_estimator=LinearSVC(C=1.0, class_weight=None,\n",
       "                                                dual=True, fit_intercept=True,\n",
       "                                                intercept_scaling=1,\n",
       "                                                loss='squared_hinge',\n",
       "                                                max_iter=1000,\n",
       "                                                multi_class='ovr', penalty='l2',\n",
       "                                                random_state=None, tol=0.0001,\n",
       "                                                verbose=0),\n",
       "                       cv='warn', method='sigmoid')"
      ]
     },
     "execution_count": 25,
     "metadata": {},
     "output_type": "execute_result"
    }
   ],
   "source": [
    "# fit the model\n",
    "CLinSvc.fit(X_tfidf_train, Y_train)"
   ]
  },
  {
   "cell_type": "code",
   "execution_count": 26,
   "metadata": {},
   "outputs": [
    {
     "name": "stdout",
     "output_type": "stream",
     "text": [
      "Please enter the row number of the issue to be explained: 0\n"
     ]
    }
   ],
   "source": [
    "# Explain the instances\n",
    "c = make_pipeline(vectorizer, CLinSvc)\n",
    "class_names = c.classes_\n",
    "explainer = LimeTextExplainer(class_names=class_names)\n",
    "top_n_labels = 3 # Top n recommendations to explain\n",
    "\n",
    "testIssueNumber = int(input(\"Please enter the row number of the issue to be explained: \"))\n",
    "exp = explainer.explain_instance(X_test[testIssueNumber], c.predict_proba, num_features=6, top_labels=top_n_labels)\n",
    "\n",
    "# starting from the best prediction to nth, explain the prediction\n",
    "for i in range(0, top_n_labels):\n",
    "    # The following line will plot the explanation\n",
    "    exp.as_pyplot_figure(label=exp.available_labels()[i])"
   ]
  },
  {
   "cell_type": "code",
   "execution_count": null,
   "metadata": {},
   "outputs": [],
   "source": []
  }
 ],
 "metadata": {
  "kernelspec": {
   "display_name": "Python 3",
   "language": "python",
   "name": "python3"
  },
  "language_info": {
   "codemirror_mode": {
    "name": "ipython",
    "version": 3
   },
   "file_extension": ".py",
   "mimetype": "text/x-python",
   "name": "python",
   "nbconvert_exporter": "python",
   "pygments_lexer": "ipython3",
   "version": "3.7.4"
  }
 },
 "nbformat": 4,
 "nbformat_minor": 2
}
