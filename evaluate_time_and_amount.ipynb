{
 "cells": [
  {
   "cell_type": "code",
   "execution_count": 1,
   "metadata": {},
   "outputs": [],
   "source": [
    "###########################################################################\n",
    "# Analysis script to evaluate the time locality and amount of training    #\n",
    "# issue reports.                                                          #\n",
    "#       (Appendix B Time Locality and Amount of Training Data)            #\n",
    "###########################################################################\n",
    "import pandas\n",
    "import numpy\n",
    "import re\n",
    "from stop_words import get_stop_words\n",
    "from sklearn.feature_extraction.text import TfidfVectorizer\n",
    "from time import gmtime, strftime, time\n",
    "from sklearn import model_selection\n",
    "from sklearn.metrics import classification_report\n",
    "from sklearn.metrics import confusion_matrix\n",
    "from sklearn.metrics import accuracy_score\n",
    "from sklearn.svm import LinearSVC"
   ]
  },
  {
   "cell_type": "code",
   "execution_count": 2,
   "metadata": {},
   "outputs": [],
   "source": [
    "# column names in the input data file, change them according to your file specifications \n",
    "# note that in our case the year and month of creation of the issue report is available as seperate columns\n",
    "CNAME_TEAMCODE = \"UYGULAMAKODU\"\n",
    "CNAME_SUBJECT = \"OZETBASLIK\"\n",
    "CNAME_DESCRIPTION = \"ACIKLAMA\"\n",
    "CNAME_RECORD_TYPE = \"KAYITTIPI\"\n",
    "CNAME_STATUS = \"COZUM\"\n",
    "CNAME_YEAR_OPENED = \"OLUSTURULDUYIL\" # year of creation of issue reports\n",
    "CNAME_MONTH_OPENED = \"OLUSTURULDUAY\" # month of creation of issue reports\n",
    "# filtering specifications \n",
    "FILTER_ISSUE_TYPE = 'Olay'\n",
    "FILTER_ISSUE_STATUS = 'Tamamlandı'"
   ]
  },
  {
   "cell_type": "code",
   "execution_count": 3,
   "metadata": {},
   "outputs": [],
   "source": [
    "def selectRecordsOpenedAtYearMonth(dataset, year, month):\n",
    "    \"\"\"\n",
    "    returns the issue records belonging to the input year and month\n",
    "    \"\"\"\n",
    "    d1 = dataset.groupby(CNAME_YEAR_OPENED).filter(lambda x: x.name == year)\n",
    "\n",
    "    return d1.groupby(CNAME_MONTH_OPENED).filter(lambda x: x.name == month)"
   ]
  },
  {
   "cell_type": "code",
   "execution_count": 4,
   "metadata": {},
   "outputs": [],
   "source": [
    "CNAME_SUBJECT_DESCRIPTION = \"OZETBASLIK_ACIKLAMA\" # concatenation of subject and description\n",
    "\n",
    "def load(filePath):\n",
    "    '''\n",
    "    load the dataset, ISO-8859-9 encoding is used for characters specific to Turkish language.\n",
    "    '''\n",
    "    dataset = pandas.read_csv(filePath, encoding=\"ISO-8859-9\", delimiter=\";\") \n",
    "\n",
    "    # remove the spaces from the start and end of column names\n",
    "    dataset.rename(columns=lambda x: x.strip(), inplace=True)\n",
    "\n",
    "    # concatenate subject and description in one column\n",
    "    dataset[CNAME_SUBJECT_DESCRIPTION] = dataset[CNAME_SUBJECT].astype(str) + ' ' + dataset[CNAME_DESCRIPTION].astype(str)\n",
    "\n",
    "    return dataset"
   ]
  },
  {
   "cell_type": "code",
   "execution_count": 5,
   "metadata": {},
   "outputs": [],
   "source": [
    "def selectTrainingDatasetRecords(dataset, train_year, train_month_list):\n",
    "    \"\"\"\n",
    "    filter issue records from the training dataset such that \n",
    "     * unresolved are eliminated and \n",
    "     * they are opened at specific time intervals\n",
    "\n",
    "    \"\"\"\n",
    "    dataset = dataset[(dataset[CNAME_RECORD_TYPE] == FILTER_ISSUE_TYPE) &\n",
    "                      (dataset[CNAME_STATUS] == FILTER_ISSUE_STATUS)]\n",
    "\n",
    "    # # select year and month\n",
    "    frames = []\n",
    "    for train_month in train_month_list:\n",
    "        frames.append(selectRecordsOpenedAtYearMonth(dataset, train_year, train_month))\n",
    "\n",
    "    dataset = pandas.concat(frames)\n",
    "\n",
    "    return dataset"
   ]
  },
  {
   "cell_type": "code",
   "execution_count": 6,
   "metadata": {},
   "outputs": [],
   "source": [
    "def selectTestDatasetRecords(dataset, test_year, test_month):\n",
    "    \"\"\"\n",
    "    filter issue records from the test dataset such that \n",
    "     * unresolved are eliminated and \n",
    "     * they are opened at specific time intervals\n",
    "\n",
    "    \"\"\"\n",
    "    # select year and month\n",
    "    frames = [selectRecordsOpenedAtYearMonth(dataset, test_year, test_month)]\n",
    "    dataset = pandas.concat(frames)\n",
    "    return dataset[(dataset[CNAME_RECORD_TYPE] == FILTER_ISSUE_TYPE) & \n",
    "                   (dataset[CNAME_STATUS] == FILTER_ISSUE_STATUS)]"
   ]
  },
  {
   "cell_type": "code",
   "execution_count": 7,
   "metadata": {},
   "outputs": [],
   "source": [
    "def selectRecordsHavingAtLeastNValuesInColumn(dataset, columnName, min_number_of_distinct_values):\n",
    "    \"\"\"\n",
    "    returns records that have the same value at columnName at least N times \n",
    "    \"\"\"\n",
    "\n",
    "    return dataset.groupby(columnName).filter(lambda x: len(x) >= min_number_of_distinct_values)"
   ]
  },
  {
   "cell_type": "code",
   "execution_count": 8,
   "metadata": {},
   "outputs": [],
   "source": [
    "# list of the stop words to be eliminated from the issue dataset \n",
    "stop_word_list = get_stop_words('turkish')\n",
    "#print(stop_word_list)\n",
    "\n",
    "# Turkish upper-case characters are lower-cased seperately so as to be sure of them\n",
    "lower_map_turkish = {\n",
    "    ord(u'I'): u'ı',\n",
    "    ord(u'İ'): u'i',\n",
    "    ord(u'Ç'): u'ç',\n",
    "    ord(u'Ş'): u'ş',\n",
    "    ord(u'Ö'): u'ö',\n",
    "    ord(u'Ü'): u'ü',\n",
    "    ord(u'Ğ'): u'ğ'\n",
    "}\n",
    "\n",
    "def filterNoise(text):\n",
    "    \"\"\"\n",
    "    converts words to lowercase, eliminates non-alphanumeric characters, eliminates stop-words\n",
    "    \"\"\"\n",
    "    # Remove all non-alphanumeric characters from the text via the regex[\\W]+,\n",
    "    # Convert the text into lowercase characters\n",
    "    text_tr = text.translate(lower_map_turkish)\n",
    "    lowerText = re.sub('[\\W]+', ' ', text_tr.lower())\n",
    "\n",
    "    #remove stopwords\n",
    "    noStopWordsText = [word for word in lowerText.split() if word not in stop_word_list]\n",
    "\n",
    "    return ' '.join(noStopWordsText)"
   ]
  },
  {
   "cell_type": "code",
   "execution_count": 9,
   "metadata": {},
   "outputs": [
    {
     "name": "stdout",
     "output_type": "stream",
     "text": [
      "Please enter the name of the csv dataset to read:issues.csv\n"
     ]
    }
   ],
   "source": [
    "inputFileName = input(\"Please enter the name of the csv dataset to read:\")"
   ]
  },
  {
   "cell_type": "code",
   "execution_count": 10,
   "metadata": {},
   "outputs": [
    {
     "name": "stdout",
     "output_type": "stream",
     "text": [
      "Entire dataset length: 122750\n"
     ]
    }
   ],
   "source": [
    "# load the dataset\n",
    "entireDataset = load(inputFileName)\n",
    "print(\"Entire dataset length: \" + str(len(entireDataset)))"
   ]
  },
  {
   "cell_type": "code",
   "execution_count": 11,
   "metadata": {},
   "outputs": [
    {
     "name": "stdout",
     "output_type": "stream",
     "text": [
      "Please enter the issue report year to be included in train dataset: 2017\n",
      "Please enter the issue report month to be included in train dataset (EXIT to stop): EKİM\n",
      "Please enter the issue report month to be included in train dataset (EXIT to stop): KASIM\n",
      "Please enter the issue report month to be included in train dataset (EXIT to stop): EXIT\n"
     ]
    }
   ],
   "source": [
    "train_year = int(input(\"Please enter the issue report year to be included in train dataset: \"))\n",
    "train_month_list = []\n",
    "train_month = \"\"\n",
    "while (train_month != \"EXIT\"):\n",
    "    train_month = str(input(\"Please enter the issue report month to be included in train dataset (EXIT to stop): \"))\n",
    "    if (train_month != \"EXIT\"):\n",
    "        train_month_list.append(train_month)"
   ]
  },
  {
   "cell_type": "code",
   "execution_count": 12,
   "metadata": {},
   "outputs": [
    {
     "name": "stdout",
     "output_type": "stream",
     "text": [
      "Please enter the minimum number of times a team should occur in the train dataset: 10\n"
     ]
    }
   ],
   "source": [
    "# the issue assigned to a team should occur at least min_number_of_discinct_values times for training\n",
    "min_number_of_distinct_values = int(input(\"Please enter the minimum number of times a team should occur in the train dataset: \"))"
   ]
  },
  {
   "cell_type": "code",
   "execution_count": 13,
   "metadata": {},
   "outputs": [],
   "source": [
    "# filter training issue records\n",
    "trainDataset = selectTrainingDatasetRecords(entireDataset, train_year, train_month_list)\n",
    "trainDataset = selectRecordsHavingAtLeastNValuesInColumn(trainDataset, CNAME_TEAMCODE, min_number_of_distinct_values)"
   ]
  },
  {
   "cell_type": "code",
   "execution_count": 14,
   "metadata": {},
   "outputs": [],
   "source": [
    "# text preprocessing\n",
    "trainDataset[CNAME_SUBJECT_DESCRIPTION] = trainDataset[CNAME_SUBJECT_DESCRIPTION].apply(filterNoise)"
   ]
  },
  {
   "cell_type": "code",
   "execution_count": 15,
   "metadata": {},
   "outputs": [
    {
     "name": "stdout",
     "output_type": "stream",
     "text": [
      "Train dataset length : 13569\n"
     ]
    }
   ],
   "source": [
    "# print to check training records\n",
    "print(\"Train dataset length : \" + str(len(trainDataset)))\n",
    "#print(trainDataset[CNAME_SUBJECT_DESCRIPTION].head(3))"
   ]
  },
  {
   "cell_type": "code",
   "execution_count": 16,
   "metadata": {},
   "outputs": [
    {
     "name": "stdout",
     "output_type": "stream",
     "text": [
      "Please enter the issue report year to be included in test dataset: 2017\n",
      "Please enter the issue report month to be included in test dataset: ARALIK\n"
     ]
    }
   ],
   "source": [
    "test_year = int(input(\"Please enter the issue report year to be included in test dataset: \"))\n",
    "test_month = str(input(\"Please enter the issue report month to be included in test dataset: \"))"
   ]
  },
  {
   "cell_type": "code",
   "execution_count": 17,
   "metadata": {},
   "outputs": [],
   "source": [
    "# filter test issue records\n",
    "testDataset = selectTestDatasetRecords(entireDataset, test_year, test_month)"
   ]
  },
  {
   "cell_type": "code",
   "execution_count": 18,
   "metadata": {},
   "outputs": [],
   "source": [
    "#text preprocessing\n",
    "testDataset[CNAME_SUBJECT_DESCRIPTION] = testDataset[CNAME_SUBJECT_DESCRIPTION].apply(filterNoise)"
   ]
  },
  {
   "cell_type": "code",
   "execution_count": 19,
   "metadata": {},
   "outputs": [
    {
     "name": "stdout",
     "output_type": "stream",
     "text": [
      "Test length: 7243\n"
     ]
    }
   ],
   "source": [
    "# print to check test records\n",
    "print(\"Test length: \" + str(len(testDataset)))\n",
    "#print(testDataset[CNAME_SUBJECT_DESCRIPTION].head(3))"
   ]
  },
  {
   "cell_type": "code",
   "execution_count": 20,
   "metadata": {},
   "outputs": [],
   "source": [
    "# specify the input textual data to train (X_train) and related classes (Y_train)\n",
    "X_train = trainDataset[CNAME_SUBJECT_DESCRIPTION].values\n",
    "Y_train = trainDataset[CNAME_TEAMCODE].values"
   ]
  },
  {
   "cell_type": "code",
   "execution_count": 21,
   "metadata": {},
   "outputs": [],
   "source": [
    "# Tf-idf conversion for training dataset\n",
    "vectorizer = TfidfVectorizer(ngram_range=(1, 2))\n",
    "X_tfidf_train = vectorizer.fit_transform(X_train)\n",
    "voc = vectorizer.vocabulary_"
   ]
  },
  {
   "cell_type": "code",
   "execution_count": 22,
   "metadata": {},
   "outputs": [],
   "source": [
    "# specify the input textual data to test (X_test) and related classes (Y_test)\n",
    "X_test = testDataset[CNAME_SUBJECT_DESCRIPTION].values\n",
    "Y_test = testDataset[CNAME_TEAMCODE].values"
   ]
  },
  {
   "cell_type": "code",
   "execution_count": 23,
   "metadata": {},
   "outputs": [],
   "source": [
    "# Td-idf conversion for test dataset\n",
    "vectorizer = TfidfVectorizer(ngram_range=(1, 2), vocabulary=voc)\n",
    "X_tfidf_test = vectorizer.fit_transform(X_test)"
   ]
  },
  {
   "cell_type": "code",
   "execution_count": 24,
   "metadata": {},
   "outputs": [],
   "source": [
    "# Specify the algorithm\n",
    "LinSvc = LinearSVC()"
   ]
  },
  {
   "cell_type": "code",
   "execution_count": 26,
   "metadata": {},
   "outputs": [
    {
     "name": "stdout",
     "output_type": "stream",
     "text": [
      "LinearSVC:Training starts:2020-04-21 17:52:50\n",
      "Training year and months: 2017 ['EKİM', 'KASIM']\n",
      "Test year and month: 2017 ARALIK\n",
      "Accuracy: 0.80 (+/- 0.02)\n",
      "LinearSVC:Training ends:2020-04-21 17:54:51\n",
      "Training time:  0.0 2.0 1.4105002880096436\n",
      "0.7449951677481707\n",
      "[[ 36   0   0 ...   0   0   0]\n",
      " [  0  41   0 ...   0   0   0]\n",
      " [  0   0 100 ...   0   0   0]\n",
      " ...\n",
      " [  0   0   0 ...   0   0   0]\n",
      " [  0   0   0 ...   0  40   0]\n",
      " [  0   0   0 ...   0   0   0]]\n"
     ]
    },
    {
     "name": "stderr",
     "output_type": "stream",
     "text": [
      "C:\\Users\\ua48078\\AppData\\Local\\Continuum\\anaconda3\\lib\\site-packages\\sklearn\\metrics\\classification.py:1437: UndefinedMetricWarning: Precision and F-score are ill-defined and being set to 0.0 in labels with no predicted samples.\n",
      "  'precision', 'predicted', average, warn_for)\n",
      "C:\\Users\\ua48078\\AppData\\Local\\Continuum\\anaconda3\\lib\\site-packages\\sklearn\\metrics\\classification.py:1439: UndefinedMetricWarning: Recall and F-score are ill-defined and being set to 0.0 in labels with no true samples.\n",
      "  'recall', 'true', average, warn_for)\n"
     ]
    },
    {
     "name": "stdout",
     "output_type": "stream",
     "text": [
      "              precision    recall  f1-score   support\n",
      "\n",
      "      UK0012       0.77      0.60      0.67        60\n",
      "      UK0020       0.50      0.76      0.60        54\n",
      "      UK0025       0.93      0.81      0.87       124\n",
      "      UK0027       0.00      0.00      0.00         2\n",
      "      UK0038       0.80      0.85      0.82       155\n",
      "      UK0047       0.75      0.86      0.80         7\n",
      "      UK0066       0.54      0.50      0.52        56\n",
      "      UK0074       0.00      0.00      0.00         5\n",
      "      UK0079       0.00      0.00      0.00         1\n",
      "      UK0094       0.50      0.30      0.37        10\n",
      "      UK0100       0.58      0.23      0.33        31\n",
      "      UK0104       0.00      0.00      0.00         1\n",
      "      UK0110       0.77      0.59      0.67        17\n",
      "      UK0118       0.00      0.00      0.00         1\n",
      "      UK0119       0.86      0.43      0.57        14\n",
      "      UK0120       0.68      0.48      0.57        27\n",
      "      UK0125       0.55      0.60      0.57        10\n",
      "      UK0127       0.78      0.88      0.82         8\n",
      "      UK0137       0.80      0.94      0.86       271\n",
      "      UK0142       0.94      0.89      0.91        18\n",
      "      UK0167       0.88      0.91      0.90        76\n",
      "      UK0169       0.00      0.00      0.00         1\n",
      "      UK0172       0.83      0.63      0.72        95\n",
      "      UK0173       0.00      0.00      0.00         2\n",
      "      UK0174       0.84      0.92      0.88       218\n",
      "      UK0189       0.82      0.80      0.81        86\n",
      "      UK0193       0.61      0.88      0.72        25\n",
      "      UK0196       0.67      0.69      0.68       187\n",
      "      UK0199       0.71      0.68      0.69       121\n",
      "      UK0207       0.53      0.66      0.58        32\n",
      "      UK0213       0.92      0.94      0.93       336\n",
      "      UK0217       0.65      0.86      0.74        69\n",
      "      UK0229       1.00      0.50      0.67         8\n",
      "      UK0236       0.00      0.00      0.00         1\n",
      "      UK0265       0.86      0.67      0.75         9\n",
      "      UK0300       0.60      0.88      0.71        59\n",
      "      UK0304       0.00      0.00      0.00         1\n",
      "      UK0308       0.00      0.00      0.00         1\n",
      "      UK0313       0.64      0.58      0.61        43\n",
      "      UK0318       0.50      0.86      0.63        14\n",
      "      UK0320       0.00      0.00      0.00         2\n",
      "      UK0338       0.75      0.60      0.67         5\n",
      "      UK0340       0.71      0.79      0.75        19\n",
      "      UK0379       0.00      0.00      0.00         1\n",
      "      UK0385       0.00      0.00      0.00         4\n",
      "      UK0404       0.67      0.36      0.47        11\n",
      "      UK0412       0.00      0.00      0.00        10\n",
      "      UK0416       0.00      0.00      0.00        75\n",
      "      UK0421       0.00      0.00      0.00         1\n",
      "      UK0434       0.00      0.00      0.00         3\n",
      "      UK0440       0.95      0.93      0.94       290\n",
      "      UK0442       0.00      0.00      0.00         1\n",
      "      UK0443       0.75      0.82      0.78        68\n",
      "      UK0444       0.77      0.71      0.74        24\n",
      "      UK0445       0.89      0.89      0.89         9\n",
      "      UK0448       0.75      0.60      0.67         5\n",
      "      UK0451       0.65      0.90      0.75        97\n",
      "      UK0452       0.00      0.00      0.00         3\n",
      "      UK0549       0.00      0.00      0.00         2\n",
      "      UK0615       0.71      0.83      0.76       211\n",
      "      UK0618       0.73      0.47      0.57        17\n",
      "      UK0623       1.00      0.08      0.14        26\n",
      "      UK0626       0.82      0.94      0.88        64\n",
      "      UK0628       0.00      0.00      0.00         2\n",
      "      UK0634       0.79      0.88      0.83        17\n",
      "      UK0647       0.00      0.00      0.00         4\n",
      "      UK0648       0.69      0.78      0.73        49\n",
      "      UK0649       0.94      0.94      0.94        18\n",
      "      UK0650       0.66      0.68      0.67        34\n",
      "      UK0651       0.00      0.00      0.00         4\n",
      "      UK0652       1.00      0.88      0.93        16\n",
      "      UK0653       0.80      0.33      0.47        12\n",
      "      UK0654       0.86      0.54      0.67        46\n",
      "      UK0655       0.81      0.85      0.83        20\n",
      "      UK0663       1.00      1.00      1.00        23\n",
      "      UK0668       0.56      0.26      0.36       137\n",
      "      UK0669       0.00      0.00      0.00         2\n",
      "      UK0671       1.00      0.50      0.67         6\n",
      "      UK0673       0.00      0.00      0.00         3\n",
      "      UK0674       0.00      0.00      0.00         5\n",
      "      UK0677       1.00      0.11      0.20         9\n",
      "      UK0678       0.00      0.00      0.00         0\n",
      "      UK0682       0.00      0.00      0.00         2\n",
      "      UK0683       0.67      0.86      0.76        65\n",
      "      UK0689       1.00      1.00      1.00         5\n",
      "      UK0690       1.00      0.12      0.22         8\n",
      "      UK0691       0.55      0.54      0.55        39\n",
      "      UK0696       1.00      0.12      0.22        16\n",
      "      UK0698       0.58      0.79      0.67        57\n",
      "      UK0699       0.00      0.00      0.00        10\n",
      "      UK0701       0.80      0.30      0.44        40\n",
      "      UK0703       0.00      0.00      0.00        10\n",
      "      UK0704       0.00      0.00      0.00         2\n",
      "      UK0707       0.83      0.50      0.62        10\n",
      "      UK0708       0.00      0.00      0.00         1\n",
      "      UK0710       0.40      0.29      0.33         7\n",
      "      UK0715       0.00      0.00      0.00         3\n",
      "      UK0716       0.97      0.90      0.94        41\n",
      "      UK0723       0.73      0.74      0.74        47\n",
      "      UK0731       0.00      0.00      0.00         1\n",
      "      UK0732       0.93      0.94      0.94        72\n",
      "      UK0733       0.73      0.89      0.80         9\n",
      "      UK0736       0.00      0.00      0.00         5\n",
      "      UK0744       1.00      0.12      0.22         8\n",
      "      UK0747       0.00      0.00      0.00         1\n",
      "      UK0748       1.00      0.33      0.50         6\n",
      "      UK0751       0.71      0.38      0.50        13\n",
      "      UK0770       0.00      0.00      0.00         1\n",
      "      UK0777       0.00      0.00      0.00         0\n",
      "      UK0778       0.85      0.38      0.52        29\n",
      "      UK0781       0.00      0.00      0.00         2\n",
      "      UK0783       0.00      0.00      0.00         1\n",
      "      UK0788       0.45      0.54      0.49        41\n",
      "      UK0799       0.00      0.00      0.00         3\n",
      "      UK0802       0.64      0.50      0.56        14\n",
      "      UK0805       1.00      1.00      1.00         5\n",
      "      UK0811       0.71      0.87      0.78       143\n",
      "      UK0812       0.00      0.00      0.00         3\n",
      "      UK0813       0.00      0.00      0.00         4\n",
      "      UK0817       0.00      0.00      0.00         2\n",
      "      UK0819       0.89      0.67      0.76        24\n",
      "      UK0820       1.00      1.00      1.00         1\n",
      "      UK0822       0.00      0.00      0.00         1\n",
      "      UK0848       0.00      0.00      0.00         2\n",
      "      UK0849       0.00      0.00      0.00         9\n",
      "      UK0853       0.14      0.06      0.08        18\n",
      "      UK0854       0.00      0.00      0.00         2\n",
      "      UK0855       0.00      0.00      0.00         1\n",
      "      UK0856       0.00      0.00      0.00         4\n",
      "      UK0857       0.36      0.05      0.09        96\n",
      "      UK0858       0.33      0.37      0.35        27\n",
      "      UK0860       0.00      0.00      0.00         5\n",
      "      UK0864       0.00      0.00      0.00         3\n",
      "      UK0946       0.00      0.00      0.00         1\n",
      "      UK0959       0.85      0.65      0.73       102\n",
      "      UK0962       0.00      0.00      0.00         1\n",
      "      UK0970       0.00      0.00      0.00         3\n",
      "      UK1027       0.30      0.33      0.31        24\n",
      "      UK1032       0.00      0.00      0.00         1\n",
      "      UK1040       0.00      0.00      0.00         2\n",
      "      UK1042       0.71      0.85      0.78       147\n",
      "      UK1043       0.57      0.50      0.53         8\n",
      "      UK1044       0.00      0.00      0.00         1\n",
      "      UK1063       0.00      0.00      0.00         1\n",
      "      UK1064       0.33      0.67      0.44         3\n",
      "      UK1066       0.00      0.00      0.00         2\n",
      "      UK1081       0.50      0.08      0.13        13\n",
      "      UK1087       0.71      0.83      0.76       162\n",
      "      UK1092       0.00      0.00      0.00         8\n",
      "      UK1110       0.00      0.00      0.00         1\n",
      "      UK1138       0.88      1.00      0.93       225\n",
      "      UK1147       0.44      0.57      0.50       316\n",
      "      UK1148       0.70      0.83      0.76       915\n",
      "      UK1150       0.00      0.00      0.00         1\n",
      "      UK1153       0.00      0.00      0.00         1\n",
      "      UK1158       1.00      0.85      0.92        13\n",
      "      UK1169       0.00      0.00      0.00         3\n",
      "      UK1177       0.78      0.32      0.45        22\n",
      "      UK1186       0.91      0.99      0.94       416\n",
      "      UK1190       0.00      0.00      0.00         7\n",
      "      UK1209       0.94      0.73      0.82        22\n",
      "      UK1212       0.82      0.90      0.85        59\n",
      "      UK1213       0.00      0.00      0.00         1\n",
      "      UK1224       0.00      0.00      0.00         1\n",
      "      UK1230       0.91      0.97      0.94        70\n",
      "      UK1246       0.94      0.92      0.93        52\n",
      "      UK1253       0.29      0.20      0.24        10\n",
      "      UK1254       0.00      0.00      0.00         1\n",
      "      UK1267       1.00      0.60      0.75        10\n",
      "      UK1293       0.56      0.23      0.33        43\n",
      "      UK1317       0.00      0.00      0.00         1\n",
      "      UK1363       0.85      0.95      0.90        42\n",
      "      UK1397       0.00      0.00      0.00         2\n",
      "\n",
      "    accuracy                           0.74      7243\n",
      "   macro avg       0.44      0.38      0.39      7243\n",
      "weighted avg       0.72      0.74      0.72      7243\n",
      "\n"
     ]
    }
   ],
   "source": [
    "print('LinearSVC' + \":Training starts:\" + strftime(\"%Y-%m-%d %H:%M:%S\", gmtime()))\n",
    "print('Training year and months:', train_year, train_month_list)\n",
    "print('Test year and month:', test_year, test_month)\n",
    "\n",
    "start_time = time()\n",
    "\n",
    "scores = model_selection.cross_val_score(LinSvc, X_tfidf_train, Y_train, cv=10, scoring='accuracy')\n",
    "print(\"Accuracy: %0.2f (+/- %0.2f)\"\n",
    "      % (scores.mean(), scores.std()))\n",
    "\n",
    "LinSvc.fit(X_tfidf_train, Y_train)\n",
    "\n",
    "end_time = time()\n",
    "print('LinearSVC' + \":Training ends:\" + strftime(\"%Y-%m-%d %H:%M:%S\", gmtime()))\n",
    "total_seconds = end_time - start_time\n",
    "hours, rest = divmod(total_seconds, 3600)\n",
    "minutes, seconds = divmod(rest, 60)\n",
    "print(\"Training time: \", hours, minutes, seconds)\n",
    "\n",
    "predictions = LinSvc.predict(X_tfidf_test)\n",
    "print(accuracy_score(Y_test, predictions))\n",
    "print(confusion_matrix(Y_test, predictions))\n",
    "print(classification_report(Y_test, predictions))"
   ]
  },
  {
   "cell_type": "code",
   "execution_count": null,
   "metadata": {},
   "outputs": [],
   "source": []
  },
  {
   "cell_type": "code",
   "execution_count": null,
   "metadata": {},
   "outputs": [],
   "source": []
  }
 ],
 "metadata": {
  "kernelspec": {
   "display_name": "Python 3",
   "language": "python",
   "name": "python3"
  },
  "language_info": {
   "codemirror_mode": {
    "name": "ipython",
    "version": 3
   },
   "file_extension": ".py",
   "mimetype": "text/x-python",
   "name": "python",
   "nbconvert_exporter": "python",
   "pygments_lexer": "ipython3",
   "version": "3.7.4"
  }
 },
 "nbformat": 4,
 "nbformat_minor": 2
}
