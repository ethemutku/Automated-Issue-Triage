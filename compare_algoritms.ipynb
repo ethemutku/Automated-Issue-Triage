{
 "cells": [
  {
   "cell_type": "code",
   "execution_count": 1,
   "metadata": {},
   "outputs": [],
   "source": [
    "###########################################################################\n",
    "# Analysis script to compare ml algorithms for issue record classification#\n",
    "#       (Appendix A Evaluating Existing Issue Assignment Approaches)      #\n",
    "###########################################################################\n",
    "import pandas\n",
    "import numpy\n",
    "import re\n",
    "from stop_words import get_stop_words\n",
    "from sklearn.feature_extraction.text import TfidfVectorizer\n",
    "from time import gmtime, strftime, time\n",
    "from sklearn import model_selection\n",
    "from sklearn.metrics import classification_report\n",
    "from sklearn.metrics import confusion_matrix\n",
    "from sklearn.metrics import accuracy_score\n",
    "from sklearn.linear_model import LogisticRegression\n",
    "from sklearn.neighbors import KNeighborsClassifier\n",
    "from sklearn.naive_bayes import MultinomialNB\n",
    "from sklearn.tree import DecisionTreeClassifier\n",
    "from sklearn.ensemble import RandomForestClassifier\n",
    "from sklearn.svm import LinearSVC\n",
    "from sklearn.calibration import CalibratedClassifierCV\n",
    "from mlxtend.classifier import StackingClassifier"
   ]
  },
  {
   "cell_type": "code",
   "execution_count": 2,
   "metadata": {},
   "outputs": [],
   "source": [
    "# column names in the input data file, change them according to your file specifications \n",
    "# note that in our case the year and month of creation of the issue report is available as seperate columns\n",
    "CNAME_TEAMCODE = \"TEAMCODE\"\n",
    "CNAME_SUBJECT = \"SUBJECT\"\n",
    "CNAME_DESCRIPTION = \"DESCRIPTION\"\n",
    "CNAME_RECORD_TYPE = \"RECORDTYPE\"\n",
    "CNAME_STATUS = \"STATUS\"\n",
    "CNAME_YEAR_OPENED = \"CREATIONYEAR\" # year of creation of issue reports\n",
    "CNAME_MONTH_OPENED = \"CREATIONMONTH\" # month of creation of issue reports\n",
    "# filtering specifications \n",
    "FILTER_ISSUE_TYPE = 'ISSUE'\n",
    "FILTER_ISSUE_STATUS = 'CLOSED'"
   ]
  },
  {
   "cell_type": "code",
   "execution_count": 3,
   "metadata": {},
   "outputs": [],
   "source": [
    "def selectRecordsOpenedAtYearMonth(dataset, year, month):\n",
    "    \"\"\"\n",
    "    returns the issue records belonging to the input year and month\n",
    "    \"\"\"\n",
    "    d1 = dataset.groupby(CNAME_YEAR_OPENED).filter(lambda x: x.name == year)\n",
    "\n",
    "    return d1.groupby(CNAME_MONTH_OPENED).filter(lambda x: x.name == month)"
   ]
  },
  {
   "cell_type": "code",
   "execution_count": 4,
   "metadata": {},
   "outputs": [],
   "source": [
    "CNAME_SUBJECT_DESCRIPTION = \"SUBJECT_DESCRIPTION\" # concatenation of subject and description\n",
    "\n",
    "def load(filePath):\n",
    "    '''\n",
    "    load the dataset, ISO-8859-9 encoding is used for characters specific to Turkish language.\n",
    "    '''\n",
    "    dataset = pandas.read_csv(filePath, encoding=\"ISO-8859-9\", delimiter=\";\") \n",
    "\n",
    "    # remove the spaces from the start and end of column names\n",
    "    dataset.rename(columns=lambda x: x.strip(), inplace=True)\n",
    "\n",
    "    # concatenate subject and description in one column\n",
    "    dataset[CNAME_SUBJECT_DESCRIPTION] = dataset[CNAME_SUBJECT].astype(str) + ' ' + dataset[CNAME_DESCRIPTION].astype(str)\n",
    "\n",
    "    return dataset"
   ]
  },
  {
   "cell_type": "code",
   "execution_count": 5,
   "metadata": {},
   "outputs": [],
   "source": [
    "def selectTrainingDatasetRecords(dataset, train_year, train_month_list):\n",
    "    \"\"\"\n",
    "    filter issue records from the training dataset such that \n",
    "     * unresolved are eliminated and \n",
    "     * they are opened at specific time intervals\n",
    "\n",
    "    \"\"\"\n",
    "    dataset = dataset[(dataset[CNAME_RECORD_TYPE] == FILTER_ISSUE_TYPE) &\n",
    "                      (dataset[CNAME_STATUS] == FILTER_ISSUE_STATUS)]\n",
    "\n",
    "    # # select year and month\n",
    "    frames = []\n",
    "    for train_month in train_month_list:\n",
    "        frames.append(selectRecordsOpenedAtYearMonth(dataset, train_year, train_month))\n",
    "\n",
    "    dataset = pandas.concat(frames)\n",
    "\n",
    "    return dataset"
   ]
  },
  {
   "cell_type": "code",
   "execution_count": 6,
   "metadata": {},
   "outputs": [],
   "source": [
    "def selectTestDatasetRecords(dataset, test_year, test_month):\n",
    "    \"\"\"\n",
    "    filter issue records from the test dataset such that \n",
    "     * unresolved are eliminated and \n",
    "     * they are opened at specific time intervals\n",
    "\n",
    "    \"\"\"\n",
    "    # select year and month\n",
    "    frames = [selectRecordsOpenedAtYearMonth(dataset, test_year, test_month)]\n",
    "    dataset = pandas.concat(frames)\n",
    "    return dataset[(dataset[CNAME_RECORD_TYPE] == FILTER_ISSUE_TYPE) & \n",
    "                   (dataset[CNAME_STATUS] == FILTER_ISSUE_STATUS)]"
   ]
  },
  {
   "cell_type": "code",
   "execution_count": 7,
   "metadata": {},
   "outputs": [],
   "source": [
    "def selectRecordsHavingAtLeastNValuesInColumn(dataset, columnName, min_number_of_distinct_values):\n",
    "    \"\"\"\n",
    "    returns records that have the same value at columnName at least N times \n",
    "    \"\"\"\n",
    "\n",
    "    return dataset.groupby(columnName).filter(lambda x: len(x) >= min_number_of_distinct_values)"
   ]
  },
  {
   "cell_type": "code",
   "execution_count": 8,
   "metadata": {},
   "outputs": [],
   "source": [
    "# list of the stop words to be eliminated from the issue dataset \n",
    "stop_word_list = get_stop_words('turkish')\n",
    "#print(stop_word_list)\n",
    "\n",
    "# Turkish upper-case characters are lower-cased seperately so as to be sure of them\n",
    "lower_map_turkish = {\n",
    "    ord(u'I'): u'ı',\n",
    "    ord(u'İ'): u'i',\n",
    "    ord(u'Ç'): u'ç',\n",
    "    ord(u'Ş'): u'ş',\n",
    "    ord(u'Ö'): u'ö',\n",
    "    ord(u'Ü'): u'ü',\n",
    "    ord(u'Ğ'): u'ğ'\n",
    "}\n",
    "\n",
    "def filterNoise(text):\n",
    "    \"\"\"\n",
    "    converts words to lowercase, eliminates non-alphanumeric characters, eliminates stop-words\n",
    "    \"\"\"\n",
    "    # Remove all non-alphanumeric characters from the text via the regex[\\W]+,\n",
    "    # Convert the text into lowercase characters\n",
    "    text_tr = text.translate(lower_map_turkish)\n",
    "    lowerText = re.sub('[\\W]+', ' ', text_tr.lower())\n",
    "\n",
    "    #remove stopwords\n",
    "    noStopWordsText = [word for word in lowerText.split() if word not in stop_word_list]\n",
    "\n",
    "    return ' '.join(noStopWordsText)"
   ]
  },
  {
   "cell_type": "code",
   "execution_count": 9,
   "metadata": {},
   "outputs": [
    {
     "name": "stdout",
     "output_type": "stream",
     "text": [
      "Please enter the name of the csv dataset to read:issues.csv\n"
     ]
    }
   ],
   "source": [
    "inputFileName = input(\"Please enter the name of the csv dataset to read:\")"
   ]
  },
  {
   "cell_type": "code",
   "execution_count": 10,
   "metadata": {},
   "outputs": [
    {
     "name": "stdout",
     "output_type": "stream",
     "text": [
      "Entire dataset length: 122750\n"
     ]
    }
   ],
   "source": [
    "# load the dataset\n",
    "entireDataset = load(inputFileName)\n",
    "print(\"Entire dataset length: \" + str(len(entireDataset)))"
   ]
  },
  {
   "cell_type": "code",
   "execution_count": 11,
   "metadata": {},
   "outputs": [
    {
     "name": "stdout",
     "output_type": "stream",
     "text": [
      "Please enter the issue report year to be included in train dataset: 2017\n",
      "Please enter the issue report month to be included in train dataset (EXIT to stop): OCTOBER\n",
      "Please enter the issue report month to be included in train dataset (EXIT to stop): NOVEMBER\n",
      "Please enter the issue report month to be included in train dataset (EXIT to stop): EXIT\n"
     ]
    }
   ],
   "source": [
    "train_year = int(input(\"Please enter the issue report year to be included in train dataset: \"))\n",
    "train_month_list = []\n",
    "train_month = \"\"\n",
    "while (train_month != \"EXIT\"):\n",
    "    train_month = str(input(\"Please enter the issue report month to be included in train dataset (EXIT to stop): \"))\n",
    "    if (train_month != \"EXIT\"):\n",
    "        train_month_list.append(train_month)"
   ]
  },
  {
   "cell_type": "code",
   "execution_count": 12,
   "metadata": {},
   "outputs": [
    {
     "name": "stdout",
     "output_type": "stream",
     "text": [
      "Please enter the minimum number of times a team should occur in the train dataset: 10\n"
     ]
    }
   ],
   "source": [
    "# the issue assigned to a team should occur at least min_number_of_discinct_values times for training\n",
    "min_number_of_distinct_values = int(input(\"Please enter the minimum number of times a team should occur in the train dataset: \"))"
   ]
  },
  {
   "cell_type": "code",
   "execution_count": 13,
   "metadata": {},
   "outputs": [],
   "source": [
    "# filter training issue records\n",
    "trainDataset = selectTrainingDatasetRecords(entireDataset, train_year, train_month_list)\n",
    "trainDataset = selectRecordsHavingAtLeastNValuesInColumn(trainDataset, CNAME_TEAMCODE, min_number_of_distinct_values)"
   ]
  },
  {
   "cell_type": "code",
   "execution_count": 14,
   "metadata": {},
   "outputs": [],
   "source": [
    "# text preprocessing\n",
    "trainDataset[CNAME_SUBJECT_DESCRIPTION] = trainDataset[CNAME_SUBJECT_DESCRIPTION].apply(filterNoise)"
   ]
  },
  {
   "cell_type": "code",
   "execution_count": 15,
   "metadata": {},
   "outputs": [
    {
     "name": "stdout",
     "output_type": "stream",
     "text": [
      "Train dataset length : 13569\n"
     ]
    }
   ],
   "source": [
    "# print to check training records\n",
    "print(\"Train dataset length : \" + str(len(trainDataset)))\n",
    "#print(trainDataset[CNAME_SUBJECT_DESCRIPTION].head(3))"
   ]
  },
  {
   "cell_type": "code",
   "execution_count": 16,
   "metadata": {},
   "outputs": [
    {
     "name": "stdout",
     "output_type": "stream",
     "text": [
      "Please enter the issue report year to be included in test dataset: 2017\n",
      "Please enter the issue report month to be included in test dataset: DECEMBER\n"
     ]
    }
   ],
   "source": [
    "test_year = int(input(\"Please enter the issue report year to be included in test dataset: \"))\n",
    "test_month = str(input(\"Please enter the issue report month to be included in test dataset: \"))"
   ]
  },
  {
   "cell_type": "code",
   "execution_count": 17,
   "metadata": {},
   "outputs": [],
   "source": [
    "# filter test issue records\n",
    "testDataset = selectTestDatasetRecords(entireDataset, test_year, test_month)"
   ]
  },
  {
   "cell_type": "code",
   "execution_count": 18,
   "metadata": {},
   "outputs": [],
   "source": [
    "#text preprocessing\n",
    "testDataset[CNAME_SUBJECT_DESCRIPTION] = testDataset[CNAME_SUBJECT_DESCRIPTION].apply(filterNoise)"
   ]
  },
  {
   "cell_type": "code",
   "execution_count": 19,
   "metadata": {},
   "outputs": [
    {
     "name": "stdout",
     "output_type": "stream",
     "text": [
      "Test length: 7243\n"
     ]
    }
   ],
   "source": [
    "# print to check test records\n",
    "print(\"Test length: \" + str(len(testDataset)))\n",
    "#print(testDataset[CNAME_SUBJECT_DESCRIPTION].head(3))"
   ]
  },
  {
   "cell_type": "code",
   "execution_count": 20,
   "metadata": {},
   "outputs": [],
   "source": [
    "# specify the input textual data to train (X_train) and related classes (Y_train)\n",
    "X_train = trainDataset[CNAME_SUBJECT_DESCRIPTION].values\n",
    "Y_train = trainDataset[CNAME_TEAMCODE].values"
   ]
  },
  {
   "cell_type": "code",
   "execution_count": 21,
   "metadata": {},
   "outputs": [],
   "source": [
    "# Tf-idf conversion for training dataset\n",
    "vectorizer = TfidfVectorizer(ngram_range=(1, 2))\n",
    "X_tfidf_train = vectorizer.fit_transform(X_train)\n",
    "voc = vectorizer.vocabulary_"
   ]
  },
  {
   "cell_type": "code",
   "execution_count": 22,
   "metadata": {},
   "outputs": [],
   "source": [
    "# specify the input textual data to test (X_test) and related classes (Y_test)\n",
    "X_test = testDataset[CNAME_SUBJECT_DESCRIPTION].values\n",
    "Y_test = testDataset[CNAME_TEAMCODE].values"
   ]
  },
  {
   "cell_type": "code",
   "execution_count": 23,
   "metadata": {},
   "outputs": [],
   "source": [
    "# Td-idf conversion for test dataset\n",
    "vectorizer = TfidfVectorizer(ngram_range=(1, 2), vocabulary=voc)\n",
    "X_tfidf_test = vectorizer.fit_transform(X_test)"
   ]
  },
  {
   "cell_type": "code",
   "execution_count": 24,
   "metadata": {},
   "outputs": [],
   "source": [
    "# Specify the algorithms\n",
    "#\n",
    "MultNB = MultinomialNB()\n",
    "#\n",
    "DT = DecisionTreeClassifier()\n",
    "#\n",
    "Knn = KNeighborsClassifier(n_neighbors=12, algorithm='brute', metric='cosine')\n",
    "#\n",
    "LR = LogisticRegression()\n",
    "#\n",
    "RF = RandomForestClassifier()\n",
    "#\n",
    "LinSvc = LinearSVC()\n",
    "CLinSvc = CalibratedClassifierCV(LinSvc)\n",
    "\n",
    "SclfBest_3 = StackingClassifier(classifiers=[CLinSvc, LR, Knn],\n",
    "                                use_probas=True,\n",
    "                                meta_classifier=LR)\n",
    "\n",
    "SclfSelect_3 = StackingClassifier(classifiers=[CLinSvc, Knn, MultNB],\n",
    "                                  use_probas=True,\n",
    "                                  meta_classifier=LR)\n",
    "\n",
    "SclfBest_5 = StackingClassifier(classifiers=[CLinSvc, LR, Knn, RF, DT],\n",
    "                                use_probas=True,\n",
    "                                meta_classifier=LR)\n",
    "\n",
    "SclfSelect_5 = StackingClassifier(classifiers=[CLinSvc, LR, Knn, RF, MultNB],\n",
    "                                  use_probas=True, \n",
    "                                  meta_classifier=LR)"
   ]
  },
  {
   "cell_type": "code",
   "execution_count": 25,
   "metadata": {},
   "outputs": [],
   "source": [
    "for clf, label in zip([MultNB, Knn, LR, LinSvc, CLinSvc, DT, RF, SclfBest_3, SclfSelect_3, SclfBest_5, SclfSelect_5],\n",
    "                      ['Multinomial NB',\n",
    "                       'KNN',\n",
    "                       'Logistic Regression',\n",
    "                       'Linear SVC',\n",
    "                       'Linear SVC - Calibrated',\n",
    "                       'Decision Tree',\n",
    "                       'Random Forest',\n",
    "                       'Best3',\n",
    "                       'Selected3',\n",
    "                       'Best5',\n",
    "                       'Selected5']):\n",
    "    print(label + \":Training starts:\" + strftime(\"%Y-%m-%d %H:%M:%S\", gmtime()))\n",
    "    start_time = time()\n",
    "\n",
    "    scores = model_selection.cross_val_score(clf, X_tfidf_train, Y_train, cv=10, scoring='accuracy')\n",
    "    print(\"Accuracy: %0.2f (+/- %0.2f) [%s]\"\n",
    "          % (scores.mean(), scores.std(), label))\n",
    "\n",
    "    clf.fit(X_tfidf_train, Y_train)\n",
    "    end_time = time()\n",
    "    print(label + \":Training ends:\" + strftime(\"%Y-%m-%d %H:%M:%S\", gmtime()))\n",
    "    total_seconds = end_time - start_time\n",
    "    hours, rest = divmod(total_seconds, 3600)\n",
    "    minutes, seconds = divmod(rest, 60)\n",
    "    print(\"Training time: \", hours, minutes, seconds)\n",
    "    #\n",
    "    predictions = clf.predict(X_tfidf_test)\n",
    "    print(accuracy_score(Y_test, predictions))\n",
    "    print(confusion_matrix(Y_test, predictions))\n",
    "    print(classification_report(Y_test, predictions))"
   ]
  }
 ],
 "metadata": {
  "kernelspec": {
   "display_name": "Python 3",
   "language": "python",
   "name": "python3"
  },
  "language_info": {
   "codemirror_mode": {
    "name": "ipython",
    "version": 3
   },
   "file_extension": ".py",
   "mimetype": "text/x-python",
   "name": "python",
   "nbconvert_exporter": "python",
   "pygments_lexer": "ipython3",
   "version": "3.7.4"
  }
 },
 "nbformat": 4,
 "nbformat_minor": 2
}
