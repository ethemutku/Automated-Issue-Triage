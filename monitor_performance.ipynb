{
 "cells": [
  {
   "cell_type": "code",
   "execution_count": 1,
   "metadata": {},
   "outputs": [],
   "source": [
    "##########################################################################\n",
    "# Analysis script to monitor the performance of the issue assignment     #\n",
    "# system. (Section 6 Monitoring Deterioration)                           #\n",
    "#                                                                        #\n",
    "# Uses an input file that includes daily accuracies.                     #\n",
    "##########################################################################\n",
    "import matplotlib.pyplot as plt\n",
    "import ruptures as rpt\n",
    "import numpy as np\n",
    "import pandas"
   ]
  },
  {
   "cell_type": "code",
   "execution_count": 2,
   "metadata": {},
   "outputs": [
    {
     "name": "stdout",
     "output_type": "stream",
     "text": [
      "Please enter the name of the csv dataset to read:daily_accuracy.csv\n",
      "Please enter the name of the column in the dataset to be used as the input signal:Accuracy\n"
     ]
    }
   ],
   "source": [
    "inputDatasetName = input(\"Please enter the name of the csv dataset to read:\")\n",
    "\n",
    "# Column names of the input file\n",
    "CNAME_INP_DATE = \"Date\"\n",
    "CNAME_INP_ACC = input(\"Please enter the name of the column in the dataset to be used as the input signal:\")"
   ]
  },
  {
   "cell_type": "code",
   "execution_count": 3,
   "metadata": {},
   "outputs": [],
   "source": [
    "# load the dataset\n",
    "inputDataset = pandas.read_csv(inputDatasetName, delimiter=\";\")"
   ]
  },
  {
   "cell_type": "code",
   "execution_count": 4,
   "metadata": {},
   "outputs": [],
   "source": [
    "# Use the \"daily accuracy\" column (CNAME_INP_ACC) as the input sample \n",
    "samples = np.asarray(inputDataset[CNAME_INP_ACC])\n",
    "# signal and breakpoints are defined\n",
    "signal, bkps = samples, [50, 100, 150, 200, 250, 300, 350, 400, 450, 500, 550, 600, 650]"
   ]
  },
  {
   "cell_type": "code",
   "execution_count": 5,
   "metadata": {},
   "outputs": [],
   "source": [
    "# PELT algorithm for change point detection\n",
    "model = \"l2\"  # \"l1\", l2\", \"rbf\"\n",
    "algo = rpt.Pelt(model=model).fit(signal)\n",
    "\n",
    "# Predict the change points\n",
    "pen = 0.05 # Penalty parameter\n",
    "my_bkps = algo.predict(pen=pen)\n",
    "plotWOChangepoints = True # Set true to plot even if no change point is detected"
   ]
  },
  {
   "cell_type": "code",
   "execution_count": 6,
   "metadata": {},
   "outputs": [],
   "source": [
    "# Change point is detected if my_bkps[0] < len(samples)\n",
    "if (my_bkps[0] < len(samples)) or plotWOChangepoints:  \n",
    "    rpt.show.display(signal, bkps, my_bkps)\n",
    "    plt.xlabel('Time', fontsize=24)\n",
    "    plt.ylabel('Accuracy', fontsize=24)\n",
    "    yticks = [0.70, 0.75, 0.80, 0.85, 0.90]\n",
    "    plt.yticks(yticks, fontsize=18)\n",
    "    plt.xticks(fontsize=18)\n",
    "    plt.show()"
   ]
  }
 ],
 "metadata": {
  "kernelspec": {
   "display_name": "Python 3",
   "language": "python",
   "name": "python3"
  },
  "language_info": {
   "codemirror_mode": {
    "name": "ipython",
    "version": 3
   },
   "file_extension": ".py",
   "mimetype": "text/x-python",
   "name": "python",
   "nbconvert_exporter": "python",
   "pygments_lexer": "ipython3",
   "version": "3.7.4"
  }
 },
 "nbformat": 4,
 "nbformat_minor": 2
}
